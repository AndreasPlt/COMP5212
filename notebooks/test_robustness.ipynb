{
 "cells": [
  {
   "cell_type": "code",
   "execution_count": null,
   "metadata": {},
   "outputs": [],
   "source": [
    "import os\n",
    "os.chdir(\"..\")\n",
    "print(os.getcwd())"
   ]
  },
  {
   "cell_type": "code",
   "execution_count": null,
   "metadata": {},
   "outputs": [],
   "source": [
    "MODEL_PATH = \"checkpoints/model_nrg01.hpc.itc.rwth-aachen.de_20231123-201621_mobilenet_v3_large_0_unfreezed_20_epochs.pth\"\n",
    "TSV_PATH = \"data/kaggle_dataset/train.tsv\"\n",
    "TEST_TSV_PATH = \"data/kaggle_dataset/test.tsv\"\n",
    "IMAGE_PATH = \"notebooks/demo_images/1.png\""
   ]
  },
  {
   "cell_type": "code",
   "execution_count": null,
   "metadata": {},
   "outputs": [],
   "source": [
    "from PIL import Image\n",
    "import torch\n",
    "from torchvision import transforms\n",
    "import numpy as np\n",
    "import random"
   ]
  },
  {
   "cell_type": "code",
   "execution_count": null,
   "metadata": {},
   "outputs": [],
   "source": [
    "from src.models.model import get_model\n",
    "import src.kaggle50k_dataset as kaggle50k_dataset\n",
    "from src.test import test"
   ]
  },
  {
   "cell_type": "code",
   "execution_count": null,
   "metadata": {},
   "outputs": [],
   "source": [
    "def load_model(model_path):\n",
    "    state_dict = torch.load(model_path, map_location=torch.device('cpu'))\n",
    "    model_state_dict = state_dict[\"model_state_dict\"]\n",
    "    idx_to_label = state_dict[\"idx_to_labels\"]\n",
    "    config = state_dict[\"config\"]\n",
    "    model = get_model(model_name=config[\"model\"][\"name\"], num_classes=56)\n",
    "    model.load_state_dict(model_state_dict)\n",
    "    model.eval()\n",
    "    return model, idx_to_label, config\n",
    "\n",
    "def get_idx_to_label(tsv_path):\n",
    "    labels = []\n",
    "    tsv_file = open(tsv_path, \"r\")\n",
    "\n",
    "    for line in tsv_file:\n",
    "        if line in ['\\n', '\\r\\n']:\n",
    "            continue\n",
    "        label, _ = os.path.split(line.strip())\n",
    "        labels.append(label)\n",
    "\n",
    "    idx_to_label = {idx: label for idx, label in enumerate(set(labels))}\n",
    "    return idx_to_label\n",
    "\n",
    "def load_img(image_path):\n",
    "    transform = transforms.Compose([\n",
    "        transforms.Resize((1536, 662)),\n",
    "        transforms.ToTensor(),\n",
    "        transforms.Normalize((0.5, 0.5, 0.5), (0.5, 0.5, 0.5))\n",
    "    ])\n",
    "\n",
    "    image = Image.open(image_path).convert(\"RGB\")\n",
    "    image_transformed = transform(image)\n",
    "    return image_transformed\n",
    "\n",
    "def get_random_image(dataset):\n",
    "    idx = np.random.randint(0, len(dataset))\n",
    "    image, label = dataset[idx]\n",
    "    return image, label"
   ]
  },
  {
   "cell_type": "code",
   "execution_count": null,
   "metadata": {},
   "outputs": [],
   "source": [
    "model, idx_to_label, config = load_model(MODEL_PATH)\n",
    "label_to_idx = {label: idx for idx, label in idx_to_label.items()}\n",
    "\n",
    "base_transforms = transforms.Compose([\n",
    "    transforms.Resize((1536, 662)),\n",
    "    transforms.ToTensor(),\n",
    "    transforms.Normalize((0.5, 0.5, 0.5), (0.5, 0.5, 0.5))\n",
    "])\n",
    "\n",
    "# TODO \n",
    "# occlusion_transforms = \n",
    "\n",
    "# TODO\n",
    "# noise_transforms =\n",
    "\n",
    "# TODO\n",
    "# illumination_transforms =\n",
    "\n",
    "base_dataset = kaggle50k_dataset.Kaggle50K(TEST_TSV_PATH, base_transforms)\n",
    "occlusion_dataset = kaggle50k_dataset.Kaggle50K(TEST_TSV_PATH, occlusion_transforms)\n",
    "noise_dataset = kaggle50k_dataset.Kaggle50K(TEST_TSV_PATH, noise_transforms)\n",
    "illumination_dataset = kaggle50k_dataset.Kaggle50K(TEST_TSV_PATH, illumination_transforms)\n",
    "\n",
    "base_dataset.labels_to_idx = label_to_idx\n",
    "occlusion_dataset.labels_to_idx = label_to_idx\n",
    "noise_dataset.labels_to_idx = label_to_idx\n",
    "illumination_dataset.labels_to_idx = label_to_idx\n",
    "\n",
    "top_k = [1, 3, 5]\n",
    "\n",
    "base_accuracies = test(model, base_dataset, top_k)\n",
    "occlusion_accuracies = test(model, occlusion_dataset, top_k)\n",
    "noise_accuracies = test(model, noise_dataset, top_k)\n",
    "illumination_accuracies = test(model, illumination_dataset, top_k)"
   ]
  }
 ],
 "metadata": {
  "language_info": {
   "name": "python"
  }
 },
 "nbformat": 4,
 "nbformat_minor": 2
}
