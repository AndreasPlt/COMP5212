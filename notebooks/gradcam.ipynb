{
 "cells": [
  {
   "cell_type": "code",
   "execution_count": 1,
   "metadata": {},
   "outputs": [
    {
     "name": "stdout",
     "output_type": "stream",
     "text": [
      "/Users/andreaspletschko/Uni/5. Semester (HKUST)/Machine_Learning/COMP5212\n"
     ]
    }
   ],
   "source": [
    "import os\n",
    "os.chdir(\"..\")\n",
    "print(os.getcwd())"
   ]
  },
  {
   "cell_type": "code",
   "execution_count": 2,
   "metadata": {},
   "outputs": [],
   "source": [
    "MODEL_PATH = \"checkpoints/model_ncg02.hpc.itc.rwth-aachen.de_20231122-073926_20_epochs_.pth\"\n",
    "TSV_PATH = \"data/kaggle_dataset/train.tsv\"\n",
    "TEST_IMG2 = \"data/kaggle_dataset/Turkey/canvas_1630047432.jpg\"\n",
    "TEST_IMG = \"data/kaggle_dataset/Australia/canvas_1629272439.jpg\""
   ]
  },
  {
   "cell_type": "code",
   "execution_count": 3,
   "metadata": {},
   "outputs": [
    {
     "name": "stderr",
     "output_type": "stream",
     "text": [
      "/Users/andreaspletschko/.local/lib/python3.11/site-packages/requests/__init__.py:102: RequestsDependencyWarning: urllib3 (1.26.18) or chardet (5.2.0)/charset_normalizer (2.0.12) doesn't match a supported version!\n",
      "  warnings.warn(\"urllib3 ({}) or chardet ({})/charset_normalizer ({}) doesn't match a supported \"\n"
     ]
    }
   ],
   "source": [
    "from PIL import Image\n",
    "import torch\n",
    "from torchvision import transforms\n",
    "from pytorch_grad_cam import GradCAM, HiResCAM, ScoreCAM, GradCAMPlusPlus, AblationCAM, XGradCAM, EigenCAM, FullGrad\n",
    "from pytorch_grad_cam.utils.model_targets import ClassifierOutputTarget, ClassifierOutputSoftmaxTarget\n",
    "from pytorch_grad_cam.utils.image import show_cam_on_image\n",
    "import matplotlib.pyplot as plt\n",
    "import cv2\n",
    "\n",
    "from src.models.model import get_model"
   ]
  },
  {
   "cell_type": "code",
   "execution_count": 4,
   "metadata": {},
   "outputs": [],
   "source": [
    "def load_model(model_path):\n",
    "    state_dict = torch.load(model_path, map_location=torch.device('cpu'))\n",
    "    model = get_model(model_name=\"mobilenet_v3_small\", num_classes=56)\n",
    "    model.load_state_dict(state_dict)\n",
    "    model.eval()\n",
    "    return model\n",
    "\n",
    "def get_idx_to_label(tsv_path):\n",
    "    labels = []\n",
    "    tsv_file = open(tsv_path, \"r\")\n",
    "\n",
    "    for line in tsv_file:\n",
    "        if line in ['\\n', '\\r\\n']:\n",
    "            continue\n",
    "        label, _ = os.path.split(line.strip())\n",
    "        labels.append(label)\n",
    "\n",
    "    idx_to_label = {idx: label for idx, label in enumerate(set(labels))}\n",
    "    return idx_to_label\n",
    "\n",
    "def load_img(image_path):\n",
    "    transform = transforms.Compose([\n",
    "        transforms.Resize((1536, 662)),\n",
    "        transforms.ToTensor(),\n",
    "        transforms.Normalize((0.5, 0.5, 0.5), (0.5, 0.5, 0.5))\n",
    "    ])\n",
    "\n",
    "    image = Image.open(image_path).convert(\"RGB\")\n",
    "    image_transformed = transform(image)\n",
    "    return image_transformed"
   ]
  },
  {
   "cell_type": "code",
   "execution_count": 12,
   "metadata": {},
   "outputs": [
    {
     "name": "stderr",
     "output_type": "stream",
     "text": [
      "/Users/andreaspletschko/opt/miniforge3/envs/ml_project/lib/python3.11/site-packages/torchvision/models/_utils.py:208: UserWarning: The parameter 'pretrained' is deprecated since 0.13 and may be removed in the future, please use 'weights' instead.\n",
      "  warnings.warn(\n",
      "/Users/andreaspletschko/opt/miniforge3/envs/ml_project/lib/python3.11/site-packages/torchvision/models/_utils.py:223: UserWarning: Arguments other than a weight enum or `None` for 'weights' are deprecated since 0.13 and may be removed in the future. The current behavior is equivalent to passing `weights=MobileNet_V3_Small_Weights.IMAGENET1K_V1`. You can also use `weights=MobileNet_V3_Small_Weights.DEFAULT` to get the most up-to-date weights.\n",
      "  warnings.warn(msg)\n",
      "  0%|          | 0/18 [00:00<?, ?it/s]\n"
     ]
    },
    {
     "ename": "IndexError",
     "evalue": "too many indices for tensor of dimension 2",
     "output_type": "error",
     "traceback": [
      "\u001b[0;31m---------------------------------------------------------------------------\u001b[0m",
      "\u001b[0;31mIndexError\u001b[0m                                Traceback (most recent call last)",
      "\u001b[1;32m/Users/andreaspletschko/Uni/5. Semester (HKUST)/Machine_Learning/COMP5212/notebooks/gradcam.ipynb Cell 5\u001b[0m line \u001b[0;36m2\n\u001b[1;32m     <a href='vscode-notebook-cell:/Users/andreaspletschko/Uni/5.%20Semester%20%28HKUST%29/Machine_Learning/COMP5212/notebooks/gradcam.ipynb#W4sZmlsZQ%3D%3D?line=16'>17</a>\u001b[0m target_category \u001b[39m=\u001b[39m label_to_idx[\u001b[39m\"\u001b[39m\u001b[39mdata/kaggle_dataset/Turkey\u001b[39m\u001b[39m\"\u001b[39m]\n\u001b[1;32m     <a href='vscode-notebook-cell:/Users/andreaspletschko/Uni/5.%20Semester%20%28HKUST%29/Machine_Learning/COMP5212/notebooks/gradcam.ipynb#W4sZmlsZQ%3D%3D?line=17'>18</a>\u001b[0m targets \u001b[39m=\u001b[39m [ClassifierOutputSoftmaxTarget(\u001b[39m2\u001b[39m)]\n\u001b[0;32m---> <a href='vscode-notebook-cell:/Users/andreaspletschko/Uni/5.%20Semester%20%28HKUST%29/Machine_Learning/COMP5212/notebooks/gradcam.ipynb#W4sZmlsZQ%3D%3D?line=19'>20</a>\u001b[0m grayscale_cam \u001b[39m=\u001b[39m cam(input_tensor\u001b[39m=\u001b[39;49minput_tensor, targets\u001b[39m=\u001b[39;49mtargets)\n\u001b[1;32m     <a href='vscode-notebook-cell:/Users/andreaspletschko/Uni/5.%20Semester%20%28HKUST%29/Machine_Learning/COMP5212/notebooks/gradcam.ipynb#W4sZmlsZQ%3D%3D?line=21'>22</a>\u001b[0m \u001b[39m# In this example grayscale_cam has only one image in the batch:\u001b[39;00m\n\u001b[1;32m     <a href='vscode-notebook-cell:/Users/andreaspletschko/Uni/5.%20Semester%20%28HKUST%29/Machine_Learning/COMP5212/notebooks/gradcam.ipynb#W4sZmlsZQ%3D%3D?line=22'>23</a>\u001b[0m \u001b[39mprint\u001b[39m(grayscale_cam\u001b[39m.\u001b[39mshape)\n",
      "File \u001b[0;32m~/opt/miniforge3/envs/ml_project/lib/python3.11/site-packages/pytorch_grad_cam/base_cam.py:188\u001b[0m, in \u001b[0;36mBaseCAM.__call__\u001b[0;34m(self, input_tensor, targets, aug_smooth, eigen_smooth)\u001b[0m\n\u001b[1;32m    184\u001b[0m \u001b[39mif\u001b[39;00m aug_smooth \u001b[39mis\u001b[39;00m \u001b[39mTrue\u001b[39;00m:\n\u001b[1;32m    185\u001b[0m     \u001b[39mreturn\u001b[39;00m \u001b[39mself\u001b[39m\u001b[39m.\u001b[39mforward_augmentation_smoothing(\n\u001b[1;32m    186\u001b[0m         input_tensor, targets, eigen_smooth)\n\u001b[0;32m--> 188\u001b[0m \u001b[39mreturn\u001b[39;00m \u001b[39mself\u001b[39;49m\u001b[39m.\u001b[39;49mforward(input_tensor,\n\u001b[1;32m    189\u001b[0m                     targets, eigen_smooth)\n",
      "File \u001b[0;32m~/opt/miniforge3/envs/ml_project/lib/python3.11/site-packages/pytorch_grad_cam/base_cam.py:95\u001b[0m, in \u001b[0;36mBaseCAM.forward\u001b[0;34m(self, input_tensor, targets, eigen_smooth)\u001b[0m\n\u001b[1;32m     84\u001b[0m     loss\u001b[39m.\u001b[39mbackward(retain_graph\u001b[39m=\u001b[39m\u001b[39mTrue\u001b[39;00m)\n\u001b[1;32m     86\u001b[0m \u001b[39m# In most of the saliency attribution papers, the saliency is\u001b[39;00m\n\u001b[1;32m     87\u001b[0m \u001b[39m# computed with a single target layer.\u001b[39;00m\n\u001b[1;32m     88\u001b[0m \u001b[39m# Commonly it is the last convolutional layer.\u001b[39;00m\n\u001b[0;32m   (...)\u001b[0m\n\u001b[1;32m     93\u001b[0m \u001b[39m# use all conv layers for example, all Batchnorm layers,\u001b[39;00m\n\u001b[1;32m     94\u001b[0m \u001b[39m# or something else.\u001b[39;00m\n\u001b[0;32m---> 95\u001b[0m cam_per_layer \u001b[39m=\u001b[39m \u001b[39mself\u001b[39;49m\u001b[39m.\u001b[39;49mcompute_cam_per_layer(input_tensor,\n\u001b[1;32m     96\u001b[0m                                            targets,\n\u001b[1;32m     97\u001b[0m                                            eigen_smooth)\n\u001b[1;32m     98\u001b[0m \u001b[39mreturn\u001b[39;00m \u001b[39mself\u001b[39m\u001b[39m.\u001b[39maggregate_multi_layers(cam_per_layer)\n",
      "File \u001b[0;32m~/opt/miniforge3/envs/ml_project/lib/python3.11/site-packages/pytorch_grad_cam/base_cam.py:127\u001b[0m, in \u001b[0;36mBaseCAM.compute_cam_per_layer\u001b[0;34m(self, input_tensor, targets, eigen_smooth)\u001b[0m\n\u001b[1;32m    124\u001b[0m \u001b[39mif\u001b[39;00m i \u001b[39m<\u001b[39m \u001b[39mlen\u001b[39m(grads_list):\n\u001b[1;32m    125\u001b[0m     layer_grads \u001b[39m=\u001b[39m grads_list[i]\n\u001b[0;32m--> 127\u001b[0m cam \u001b[39m=\u001b[39m \u001b[39mself\u001b[39;49m\u001b[39m.\u001b[39;49mget_cam_image(input_tensor,\n\u001b[1;32m    128\u001b[0m                          target_layer,\n\u001b[1;32m    129\u001b[0m                          targets,\n\u001b[1;32m    130\u001b[0m                          layer_activations,\n\u001b[1;32m    131\u001b[0m                          layer_grads,\n\u001b[1;32m    132\u001b[0m                          eigen_smooth)\n\u001b[1;32m    133\u001b[0m cam \u001b[39m=\u001b[39m np\u001b[39m.\u001b[39mmaximum(cam, \u001b[39m0\u001b[39m)\n\u001b[1;32m    134\u001b[0m scaled \u001b[39m=\u001b[39m scale_cam_image(cam, target_size)\n",
      "File \u001b[0;32m~/opt/miniforge3/envs/ml_project/lib/python3.11/site-packages/pytorch_grad_cam/base_cam.py:50\u001b[0m, in \u001b[0;36mBaseCAM.get_cam_image\u001b[0;34m(self, input_tensor, target_layer, targets, activations, grads, eigen_smooth)\u001b[0m\n\u001b[1;32m     42\u001b[0m \u001b[39mdef\u001b[39;00m \u001b[39mget_cam_image\u001b[39m(\u001b[39mself\u001b[39m,\n\u001b[1;32m     43\u001b[0m                   input_tensor: torch\u001b[39m.\u001b[39mTensor,\n\u001b[1;32m     44\u001b[0m                   target_layer: torch\u001b[39m.\u001b[39mnn\u001b[39m.\u001b[39mModule,\n\u001b[0;32m   (...)\u001b[0m\n\u001b[1;32m     47\u001b[0m                   grads: torch\u001b[39m.\u001b[39mTensor,\n\u001b[1;32m     48\u001b[0m                   eigen_smooth: \u001b[39mbool\u001b[39m \u001b[39m=\u001b[39m \u001b[39mFalse\u001b[39;00m) \u001b[39m-\u001b[39m\u001b[39m>\u001b[39m np\u001b[39m.\u001b[39mndarray:\n\u001b[0;32m---> 50\u001b[0m     weights \u001b[39m=\u001b[39m \u001b[39mself\u001b[39;49m\u001b[39m.\u001b[39;49mget_cam_weights(input_tensor,\n\u001b[1;32m     51\u001b[0m                                    target_layer,\n\u001b[1;32m     52\u001b[0m                                    targets,\n\u001b[1;32m     53\u001b[0m                                    activations,\n\u001b[1;32m     54\u001b[0m                                    grads)\n\u001b[1;32m     55\u001b[0m     weighted_activations \u001b[39m=\u001b[39m weights[:, :, \u001b[39mNone\u001b[39;00m, \u001b[39mNone\u001b[39;00m] \u001b[39m*\u001b[39m activations\n\u001b[1;32m     56\u001b[0m     \u001b[39mif\u001b[39;00m eigen_smooth:\n",
      "File \u001b[0;32m~/opt/miniforge3/envs/ml_project/lib/python3.11/site-packages/pytorch_grad_cam/ablation_cam.py:124\u001b[0m, in \u001b[0;36mAblationCAM.get_cam_weights\u001b[0;34m(self, input_tensor, target_layer, targets, activations, grads)\u001b[0m\n\u001b[1;32m    119\u001b[0m     batch_tensor \u001b[39m=\u001b[39m batch_tensor[:(\n\u001b[1;32m    120\u001b[0m         number_channels_to_ablate \u001b[39m-\u001b[39m i)]\n\u001b[1;32m    122\u001b[0m \u001b[39m# Change the state of the ablation layer so it ablates the next channels.\u001b[39;00m\n\u001b[1;32m    123\u001b[0m \u001b[39m# TBD: Move this into the ablation layer forward pass.\u001b[39;00m\n\u001b[0;32m--> 124\u001b[0m ablation_layer\u001b[39m.\u001b[39;49mset_next_batch(\n\u001b[1;32m    125\u001b[0m     input_batch_index\u001b[39m=\u001b[39;49mbatch_index,\n\u001b[1;32m    126\u001b[0m     activations\u001b[39m=\u001b[39;49m\u001b[39mself\u001b[39;49m\u001b[39m.\u001b[39;49mactivations,\n\u001b[1;32m    127\u001b[0m     num_channels_to_ablate\u001b[39m=\u001b[39;49mbatch_tensor\u001b[39m.\u001b[39;49msize(\u001b[39m0\u001b[39;49m))\n\u001b[1;32m    128\u001b[0m score \u001b[39m=\u001b[39m [target(o)\u001b[39m.\u001b[39mcpu()\u001b[39m.\u001b[39mitem()\n\u001b[1;32m    129\u001b[0m          \u001b[39mfor\u001b[39;00m o \u001b[39min\u001b[39;00m \u001b[39mself\u001b[39m\u001b[39m.\u001b[39mmodel(batch_tensor)]\n\u001b[1;32m    130\u001b[0m new_scores\u001b[39m.\u001b[39mextend(score)\n",
      "File \u001b[0;32m~/opt/miniforge3/envs/ml_project/lib/python3.11/site-packages/pytorch_grad_cam/ablation_layer.py:67\u001b[0m, in \u001b[0;36mAblationLayer.set_next_batch\u001b[0;34m(self, input_batch_index, activations, num_channels_to_ablate)\u001b[0m\n\u001b[1;32m     59\u001b[0m \u001b[39mdef\u001b[39;00m \u001b[39mset_next_batch\u001b[39m(\n\u001b[1;32m     60\u001b[0m         \u001b[39mself\u001b[39m,\n\u001b[1;32m     61\u001b[0m         input_batch_index,\n\u001b[1;32m     62\u001b[0m         activations,\n\u001b[1;32m     63\u001b[0m         num_channels_to_ablate):\n\u001b[1;32m     64\u001b[0m \u001b[39m    \u001b[39m\u001b[39m\"\"\" This creates the next batch of activations from the layer.\u001b[39;00m\n\u001b[1;32m     65\u001b[0m \u001b[39m        Just take corresponding batch member from activations, and repeat it num_channels_to_ablate times.\u001b[39;00m\n\u001b[1;32m     66\u001b[0m \u001b[39m    \"\"\"\u001b[39;00m\n\u001b[0;32m---> 67\u001b[0m     \u001b[39mself\u001b[39m\u001b[39m.\u001b[39mactivations \u001b[39m=\u001b[39m activations[input_batch_index, :, :, :]\u001b[39m.\u001b[39mclone(\n\u001b[1;32m     68\u001b[0m     )\u001b[39m.\u001b[39munsqueeze(\u001b[39m0\u001b[39m)\u001b[39m.\u001b[39mrepeat(num_channels_to_ablate, \u001b[39m1\u001b[39m, \u001b[39m1\u001b[39m, \u001b[39m1\u001b[39m)\n",
      "\u001b[0;31mIndexError\u001b[0m: too many indices for tensor of dimension 2"
     ]
    }
   ],
   "source": [
    "idx_to_label = get_idx_to_label(TSV_PATH)\n",
    "label_to_idx = {label: idx for idx, label in idx_to_label.items()}\n",
    "\n",
    "model = load_model(MODEL_PATH)\n",
    "#print(model)\n",
    "image = load_img(TEST_IMG)\n",
    "\n",
    "target_layers = model.features[-1]\n",
    "target_layers = model.classifier\n",
    "for param in target_layers.parameters():\n",
    "            param.requires_grad = True\n",
    "input_tensor = image.unsqueeze(0)\n",
    "\n",
    "\n",
    "# Construct the CAM object once, and then re-use it on many images:\n",
    "cam = AblationCAM(model=model, target_layers=target_layers, use_cuda=False)\n",
    "target_category = label_to_idx[\"data/kaggle_dataset/Turkey\"]\n",
    "targets = [ClassifierOutputSoftmaxTarget(2)]\n",
    "\n",
    "grayscale_cam = cam(input_tensor=input_tensor, targets=targets)\n",
    "\n",
    "# In this example grayscale_cam has only one image in the batch:\n",
    "print(grayscale_cam.shape)\n",
    "grayscale_cam = grayscale_cam[0, :]\n",
    "image = image.permute(1, 2, 0).numpy()\n",
    "visualization = show_cam_on_image(image, grayscale_cam, use_rgb=True)"
   ]
  },
  {
   "cell_type": "code",
   "execution_count": 11,
   "metadata": {},
   "outputs": [
    {
     "name": "stdout",
     "output_type": "stream",
     "text": [
      "visualization shape: (1536, 662, 3)\n",
      "cam_image shape: (1536, 662, 3)\n"
     ]
    },
    {
     "data": {
      "text/plain": [
       "True"
      ]
     },
     "execution_count": 11,
     "metadata": {},
     "output_type": "execute_result"
    }
   ],
   "source": [
    "print(f\"visualization shape: {visualization.shape}\")\n",
    "cam_image = cv2.cvtColor(visualization, cv2.COLOR_RGB2BGR)\n",
    "print(f\"cam_image shape: {cam_image.shape}\")\n",
    "cv2.imwrite(\"blub.png\", cam_image)"
   ]
  },
  {
   "cell_type": "code",
   "execution_count": null,
   "metadata": {},
   "outputs": [],
   "source": []
  }
 ],
 "metadata": {
  "kernelspec": {
   "display_name": "ml_project",
   "language": "python",
   "name": "python3"
  },
  "language_info": {
   "codemirror_mode": {
    "name": "ipython",
    "version": 3
   },
   "file_extension": ".py",
   "mimetype": "text/x-python",
   "name": "python",
   "nbconvert_exporter": "python",
   "pygments_lexer": "ipython3",
   "version": "3.11.6"
  }
 },
 "nbformat": 4,
 "nbformat_minor": 2
}
