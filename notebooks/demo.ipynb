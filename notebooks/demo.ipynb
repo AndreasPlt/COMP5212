{
 "cells": [
  {
   "cell_type": "code",
   "execution_count": 1,
   "metadata": {},
   "outputs": [
    {
     "name": "stdout",
     "output_type": "stream",
     "text": [
      "/Users/andreaspletschko/Uni/5. Semester (HKUST)/Machine_Learning/COMP5212\n"
     ]
    }
   ],
   "source": [
    "import os\n",
    "os.chdir(\"..\")\n",
    "print(os.getcwd())"
   ]
  },
  {
   "cell_type": "code",
   "execution_count": 2,
   "metadata": {},
   "outputs": [],
   "source": [
    "MODEL_PATH = \"checkpoints/model_nrg01.hpc.itc.rwth-aachen.de_20231123-201621_mobilenet_v3_large_0_unfreezed_20_epochs.pth\"\n",
    "TSV_PATH = \"data/kaggle_dataset/train.tsv\"\n",
    "TEST_TSV_PATH = \"data/kaggle_dataset/test.tsv\"\n",
    "IMAGE_PATH = \"notebooks/demo_images/1.png\""
   ]
  },
  {
   "cell_type": "code",
   "execution_count": 3,
   "metadata": {},
   "outputs": [
    {
     "name": "stderr",
     "output_type": "stream",
     "text": [
      "/Users/andreaspletschko/.local/lib/python3.11/site-packages/requests/__init__.py:102: RequestsDependencyWarning: urllib3 (1.26.18) or chardet (5.2.0)/charset_normalizer (2.0.12) doesn't match a supported version!\n",
      "  warnings.warn(\"urllib3 ({}) or chardet ({})/charset_normalizer ({}) doesn't match a supported \"\n"
     ]
    }
   ],
   "source": [
    "from PIL import Image\n",
    "import torch\n",
    "from torchvision import transforms\n",
    "import numpy as np"
   ]
  },
  {
   "cell_type": "code",
   "execution_count": 4,
   "metadata": {},
   "outputs": [],
   "source": [
    "from src.models.model import get_model\n",
    "import src.kaggle50k_dataset as kaggle50k_dataset"
   ]
  },
  {
   "cell_type": "code",
   "execution_count": 5,
   "metadata": {},
   "outputs": [],
   "source": [
    "def load_model(model_path):\n",
    "    state_dict = torch.load(model_path, map_location=torch.device('cpu'))\n",
    "    model_state_dict = state_dict[\"model_state_dict\"]\n",
    "    idx_to_label = state_dict[\"idx_to_labels\"]\n",
    "    config = state_dict[\"config\"]\n",
    "    model = get_model(model_name=config[\"model\"][\"name\"], num_classes=56)\n",
    "    model.load_state_dict(model_state_dict)\n",
    "    model.eval()\n",
    "    return model, idx_to_label, config\n",
    "\n",
    "def get_idx_to_label(tsv_path):\n",
    "    labels = []\n",
    "    tsv_file = open(tsv_path, \"r\")\n",
    "\n",
    "    for line in tsv_file:\n",
    "        if line in ['\\n', '\\r\\n']:\n",
    "            continue\n",
    "        label, _ = os.path.split(line.strip())\n",
    "        labels.append(label)\n",
    "\n",
    "    idx_to_label = {idx: label for idx, label in enumerate(set(labels))}\n",
    "    return idx_to_label\n",
    "\n",
    "def load_img(image_path):\n",
    "    transform = transforms.Compose([\n",
    "        transforms.Resize((1536, 662)),\n",
    "        transforms.ToTensor(),\n",
    "        transforms.Normalize((0.5, 0.5, 0.5), (0.5, 0.5, 0.5))\n",
    "    ])\n",
    "\n",
    "    image = Image.open(image_path).convert(\"RGB\")\n",
    "    image_transformed = transform(image)\n",
    "    return image_transformed\n",
    "\n",
    "def get_random_image(dataset):\n",
    "    idx = np.random.randint(0, len(dataset))\n",
    "    image, label = dataset[idx]\n",
    "    return image, label"
   ]
  },
  {
   "cell_type": "code",
   "execution_count": 6,
   "metadata": {},
   "outputs": [
    {
     "name": "stderr",
     "output_type": "stream",
     "text": [
      "/Users/andreaspletschko/opt/miniforge3/envs/ml_project/lib/python3.11/site-packages/torchvision/models/_utils.py:208: UserWarning: The parameter 'pretrained' is deprecated since 0.13 and may be removed in the future, please use 'weights' instead.\n",
      "  warnings.warn(\n",
      "/Users/andreaspletschko/opt/miniforge3/envs/ml_project/lib/python3.11/site-packages/torchvision/models/_utils.py:223: UserWarning: Arguments other than a weight enum or `None` for 'weights' are deprecated since 0.13 and may be removed in the future. The current behavior is equivalent to passing `weights=MobileNet_V3_Large_Weights.IMAGENET1K_V1`. You can also use `weights=MobileNet_V3_Large_Weights.DEFAULT` to get the most up-to-date weights.\n",
      "  warnings.warn(msg)\n"
     ]
    }
   ],
   "source": [
    "model, idx_to_label, config = load_model(MODEL_PATH)\n",
    "label_to_idx = {label: idx for idx, label in idx_to_label.items()}\n",
    "test_dataset = kaggle50k_dataset.Kaggle50K(TEST_TSV_PATH)\n",
    "test_dataset.labels_to_idx = label_to_idx\n",
    "\n",
    "img, label = get_random_image(test_dataset)\n",
    "img.show()"
   ]
  },
  {
   "cell_type": "code",
   "execution_count": 7,
   "metadata": {},
   "outputs": [
    {
     "name": "stdout",
     "output_type": "stream",
     "text": [
      "tensor([[0.2272, 0.2114, 0.2012, 0.0706, 0.0629]])\n",
      "data/kaggle_dataset/United States\n",
      "data/kaggle_dataset/France\n",
      "data/kaggle_dataset/United Kingdom\n",
      "data/kaggle_dataset/Netherlands\n",
      "data/kaggle_dataset/Norway\n"
     ]
    }
   ],
   "source": [
    "img_transformed = kaggle50k_dataset.transform(img).unsqueeze(0)\n",
    "\n",
    "with torch.no_grad():\n",
    "    output = model(img_transformed)\n",
    "    # make probabilities\n",
    "    output = torch.nn.functional.softmax(output, dim=1)\n",
    "    # top 3\n",
    "    probabilities, predicted = torch.topk(output.data, 5, dim=1)\n",
    "    predicted = predicted.squeeze(0)\n",
    "    print(probabilities)\n",
    "    print(idx_to_label[predicted[0].item()])\n",
    "    print(idx_to_label[predicted[1].item()])\n",
    "    print(idx_to_label[predicted[2].item()])\n",
    "    print(idx_to_label[predicted[3].item()])\n",
    "    print(idx_to_label[predicted[4].item()])"
   ]
  },
  {
   "cell_type": "code",
   "execution_count": 8,
   "metadata": {},
   "outputs": [
    {
     "name": "stdout",
     "output_type": "stream",
     "text": [
      "data/kaggle_dataset/France\n"
     ]
    }
   ],
   "source": [
    "img.show()\n",
    "print(idx_to_label[label.item()])"
   ]
  },
  {
   "cell_type": "code",
   "execution_count": null,
   "metadata": {},
   "outputs": [],
   "source": []
  }
 ],
 "metadata": {
  "kernelspec": {
   "display_name": "ml_project",
   "language": "python",
   "name": "python3"
  },
  "language_info": {
   "codemirror_mode": {
    "name": "ipython",
    "version": 3
   },
   "file_extension": ".py",
   "mimetype": "text/x-python",
   "name": "python",
   "nbconvert_exporter": "python",
   "pygments_lexer": "ipython3",
   "version": "3.11.6"
  }
 },
 "nbformat": 4,
 "nbformat_minor": 2
}
